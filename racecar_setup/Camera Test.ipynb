{
 "cells": [
  {
   "cell_type": "code",
   "execution_count": null,
   "metadata": {},
   "outputs": [],
   "source": [
    "import cv2\n",
    "import time\n",
    "import PIL.Image\n",
    "from io import BytesIO\n",
    "import IPython.display\n",
    "\n",
    "import pyrealsense2 as rs\n",
    "import numpy as np"
   ]
  },
  {
   "cell_type": "code",
   "execution_count": null,
   "metadata": {},
   "outputs": [],
   "source": [
    "#image_recorder = ImageRecorder(stream=video)\n",
    "#video = cv2.VideoCapture(2)\n",
    "\n",
    "\n",
    "# Configure depth and color streams\n",
    "pipeline = rs.pipeline()\n",
    "config = rs.config()\n",
    "config.enable_stream(rs.stream.depth, 640, 480, rs.format.z16, 30)\n",
    "config.enable_stream(rs.stream.color, 640, 480, rs.format.bgr8, 30)\n",
    "\n",
    "display2 = IPython.display.display('', display_id=2)\n",
    "\n",
    "# Start streaming\n",
    "pipeline.start(config)\n",
    "\n",
    "try:\n",
    "    while True:\n",
    "\n",
    "        # Wait for a coherent pair of frames: depth and color\n",
    "        frames = pipeline.wait_for_frames()\n",
    "        depth_frame = frames.get_depth_frame()\n",
    "        color_frame = frames.get_color_frame()\n",
    "        if not depth_frame or not color_frame:\n",
    "            continue\n",
    "\n",
    "        # Convert images to numpy arrays\n",
    "        depth_image = np.asanyarray(depth_frame.get_data())\n",
    "        color_image = np.asanyarray(color_frame.get_data())\n",
    "       \n",
    "        color_image = cv2.cvtColor(color_image, cv2.COLOR_BGR2RGB)\n",
    "        # Apply colormap on depth image (image must be converted to 8-bit per pixel first)\n",
    "        depth_colormap = cv2.applyColorMap(cv2.convertScaleAbs(depth_image, alpha=0.03), cv2.COLORMAP_JET)\n",
    "       \n",
    "        # Stack both images horizontally\n",
    "        images = np.hstack((color_image, depth_colormap))\n",
    "       \n",
    "        f = BytesIO()\n",
    "        PIL.Image.fromarray(images).save(f, 'jpeg')\n",
    "        img = IPython.display.Image(data=f.getvalue())\n",
    "        display2.update(img)\n",
    "        time.sleep(0.20)\n",
    "       \n",
    "       \n",
    "       \n",
    "        # Show images\n",
    "        #cv2.namedWindow('RealSense', cv2.WINDOW_AUTOSIZE)\n",
    "        #cv2.imshow('RealSense', images)\n",
    "        #cv2.waitKey(1)\n",
    "       \n",
    "        #IPython.display.display(PIL.Image.fromarray(images))\n",
    "        #IPython.display.clear_output()\n",
    "\n",
    "finally:\n",
    "\n",
    "    #video.release()\n",
    "    # Stop streaming\n",
    "    pipeline.stop()"
   ]
  },
  {
   "cell_type": "code",
   "execution_count": null,
   "metadata": {},
   "outputs": [],
   "source": [
    "### TEST 1: Picture (might be dark, that is fine) ###\n",
    "video = cv2.VideoCapture(2)\n",
    "display1 = IPython.display.display('', display_id=1)\n",
    "frame = video.read()[1]\n",
    "frame = cv2.cvtColor(frame, cv2.COLOR_BGR2RGB)\n",
    "f = BytesIO()\n",
    "PIL.Image.fromarray(frame).save(f, 'jpeg')\n",
    "img = IPython.display.Image(data=f.getvalue())\n",
    "display1.update(img)\n",
    "video.release()"
   ]
  },
  {
   "cell_type": "code",
   "execution_count": null,
   "metadata": {},
   "outputs": [],
   "source": [
    "### TEST 2: Video (slow frame rate and ~2 second delay is fine) ###\n",
    "video = cv2.VideoCapture(2)\n",
    "video.set(3,320) # width\n",
    "video.set(4,240) # height\n",
    "display2 = IPython.display.display('', display_id=2)\n",
    "start_time = time.time()\n",
    "time_limit = 10\n",
    "while time.time() - start_time < time_limit:\n",
    "    frame = video.read()[1]\n",
    "    frame = cv2.cvtColor(frame, cv2.COLOR_BGR2RGB)\n",
    "    f = BytesIO()\n",
    "    PIL.Image.fromarray(frame).save(f, 'jpeg')\n",
    "    img = IPython.display.Image(data=f.getvalue())\n",
    "    display2.update(img)\n",
    "    time.sleep(0.25)\n",
    "video.release()"
   ]
  }
 ],
 "metadata": {
  "kernelspec": {
   "display_name": "Python 3",
   "language": "python",
   "name": "python3"
  },
  "language_info": {
   "codemirror_mode": {
    "name": "ipython",
    "version": 3
   },
   "file_extension": ".py",
   "mimetype": "text/x-python",
   "name": "python",
   "nbconvert_exporter": "python",
   "pygments_lexer": "ipython3",
   "version": "3.6.9"
  }
 },
 "nbformat": 4,
 "nbformat_minor": 4
}
