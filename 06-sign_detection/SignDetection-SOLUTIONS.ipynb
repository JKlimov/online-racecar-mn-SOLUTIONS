{
 "cells": [
  {
   "cell_type": "code",
   "execution_count": 2,
   "metadata": {},
   "outputs": [],
   "source": [
    "# Import functions \n",
    "import sys\n",
    "sys.path.insert(0, '..')\n",
    "from racecar_utils import *   "
   ]
  },
  {
   "cell_type": "code",
   "execution_count": 3,
   "metadata": {},
   "outputs": [
    {
     "name": "stdout",
     "output_type": "stream",
     "text": [
      "ROS node started successfully\n"
     ]
    }
   ],
   "source": [
    "# Start ROS Node\n",
    "rospy.init_node('racecar')\n",
    "rc = Racecar()\n",
    "print('ROS node started successfully')"
   ]
  },
  {
   "cell_type": "markdown",
   "metadata": {},
   "source": [
    "# Sign detection functions"
   ]
  },
  {
   "cell_type": "code",
   "execution_count": 24,
   "metadata": {},
   "outputs": [],
   "source": [
    "nFeatures = 500\n",
    "\n",
    "MATCH_TYPE = False            # True: use match count, False: use match percentage\n",
    "MIN_MATCH_COUNT = 10          # minimum number of matches required for an object to be considered a \"detected\"\n",
    "MIN_MATCH_PERCENTAGE = 0.02   # minimum match percentage required for an object to be considered a \"detected\""
   ]
  },
  {
   "cell_type": "code",
   "execution_count": 39,
   "metadata": {},
   "outputs": [],
   "source": [
    "# Sign detection functions\n",
    "\n",
    "def get_keypoints(image):\n",
    "    '''\n",
    "    outputs keypoints and descriptions for the inputted image.\n",
    "    '''\n",
    "    orb = cv2.ORB_create(nFeatures)\n",
    "    kp, des = orb.detectAndCompute(image, None)\n",
    "    return kp, des\n",
    "\n",
    "def calculate_matches(des_q, des_f):\n",
    "    # FLANN parameters\n",
    "    FLANN_INDEX_LSH = 6\n",
    "    index_params= dict(algorithm = FLANN_INDEX_LSH, table_number = 6, key_size = 12, multi_probe_level = 1)\n",
    "    search_params = None\n",
    "\n",
    "    # Matching keypoints\n",
    "    flann = cv2.FlannBasedMatcher(index_params, search_params)\n",
    "\n",
    "    if (des_q is not None) and (des_f is not None) and des_f.shape[0] > 10:\n",
    "        matches = flann.knnMatch(des_q, des_f, k=2)\n",
    "    else:\n",
    "        matches = []\n",
    "\n",
    "    # store good matches via Lowe's ratio test\n",
    "    good_matches = []\n",
    "    for m_n in matches:\n",
    "        if len(m_n) != 2:\n",
    "            continue\n",
    "        (m,n) = m_n\n",
    "        if m.distance < 0.6*n.distance:\n",
    "            good_matches.append(m)\n",
    "\n",
    "    total_matches = len(des_q) * 1.0\n",
    "    match_percentage = len(good_matches)/total_matches\n",
    "    print (\"# Matches: {}, Match Percentage: {}\".format(len(good_matches), match_percentage))\n",
    "    \n",
    "    detected = False\n",
    "\n",
    "    # Checking if object is detected\n",
    "    if MATCH_TYPE:\n",
    "        if len(good_matches) > MIN_MATCH_COUNT:\n",
    "            detected = True\n",
    "        else:\n",
    "            detected = False\n",
    "    else:\n",
    "        if match_percentage > MIN_MATCH_PERCENTAGE:\n",
    "            detected = True\n",
    "        else:\n",
    "            detected = False\n",
    "    return detected, good_matches\n",
    "\n",
    "\n",
    "def detect_sign(frame, kp_q, des_q):\n",
    "    '''\n",
    "    Input a frame and function will output a boolean. True = sign detected and False = not detected.\n",
    "\n",
    "    (Np.ndarray) frame\n",
    "    (STRING) feature_detection_algorithm = 'sift', 'surf', 'orb'.\n",
    "    (INT) hessianThreshold is basically number of key points. Smaller = more keypoints.\n",
    "    (INT) MIN_MATCH_COUNT is the minimum number of good matches for an object to be considered the query image.\n",
    "    (FLOAT) MIN_MATCH_PERCENTAGE is the minimum match percentage for an object to be considered the query image.\n",
    "    (BOOL) MIN_MATCH is a boolean. True means sign detectoin will use MIN_MATCH_COUNT. False means sign detection will use MIN_MATCH_PERCENTAGE.\n",
    "    '''\n",
    "    frame = cv2.cvtColor(frame, cv2.COLOR_BGR2GRAY)\n",
    "    \n",
    "    if (des_q is None):\n",
    "        detected = False\n",
    "        kp_q, kp_f = 0, 0\n",
    "        good_matches = []\n",
    "        return detected, kp_q, kp_f, good_matches\n",
    "\n",
    "    # Create ORB object\n",
    "    kp_f, des_f = get_keypoints(frame)\n",
    "\n",
    "    # Calculate good matches\n",
    "    detected, good_matches = calculate_matches(des_q, des_f)\n",
    "    \n",
    "    return detected, kp_q, kp_f, good_matches\n"
   ]
  },
  {
   "cell_type": "markdown",
   "metadata": {},
   "source": [
    "# Show simple image first to prevent camera errors"
   ]
  },
  {
   "cell_type": "code",
   "execution_count": 6,
   "metadata": {},
   "outputs": [
    {
     "data": {
      "image/jpeg": "[encoded data removed]",
      "text/plain": [
       "<IPython.core.display.Image object>"
      ]
     },
     "metadata": {},
     "output_type": "display_data"
    }
   ],
   "source": [
    "#draws rectangle over frame to crop\n",
    "def simple_show(img):\n",
    "    return img\n",
    "\n",
    "show_image(simple_show)"
   ]
  },
  {
   "cell_type": "markdown",
   "metadata": {},
   "source": [
    "# Sign detection without moving the car"
   ]
  },
  {
   "cell_type": "code",
   "execution_count": 7,
   "metadata": {},
   "outputs": [],
   "source": [
    "DEBUG = True\n",
    "TEST_TIME = 10"
   ]
  },
  {
   "cell_type": "code",
   "execution_count": 40,
   "metadata": {
    "scrolled": true
   },
   "outputs": [
    {
     "data": {
      "text/plain": [
       "''"
      ]
     },
     "metadata": {},
     "output_type": "display_data"
    },
    {
     "name": "stdout",
     "output_type": "stream",
     "text": [
      "# Matches: 1, Match Percentage: 0.00275482093664\n",
      "# Matches: 39, Match Percentage: 0.107438016529\n",
      "# Matches: 35, Match Percentage: 0.0964187327824\n",
      "# Matches: 32, Match Percentage: 0.0881542699725\n",
      "# Matches: 30, Match Percentage: 0.0826446280992\n",
      "# Matches: 33, Match Percentage: 0.0909090909091\n",
      "# Matches: 33, Match Percentage: 0.0909090909091\n",
      "# Matches: 36, Match Percentage: 0.099173553719\n",
      "# Matches: 28, Match Percentage: 0.0771349862259\n",
      "# Matches: 40, Match Percentage: 0.110192837466\n",
      "# Matches: 30, Match Percentage: 0.0826446280992\n",
      "# Matches: 34, Match Percentage: 0.0936639118457\n",
      "# Matches: 33, Match Percentage: 0.0909090909091\n",
      "# Matches: 25, Match Percentage: 0.068870523416\n",
      "# Matches: 19, Match Percentage: 0.0523415977961\n",
      "# Matches: 25, Match Percentage: 0.068870523416\n",
      "# Matches: 27, Match Percentage: 0.0743801652893\n",
      "# Matches: 30, Match Percentage: 0.0826446280992\n",
      "# Matches: 31, Match Percentage: 0.0853994490358\n",
      "# Matches: 30, Match Percentage: 0.0826446280992\n",
      "# Matches: 32, Match Percentage: 0.0881542699725\n",
      "# Matches: 21, Match Percentage: 0.0578512396694\n",
      "# Matches: 17, Match Percentage: 0.0468319559229\n",
      "# Matches: 20, Match Percentage: 0.0550964187328\n",
      "# Matches: 41, Match Percentage: 0.112947658402\n",
      "# Matches: 47, Match Percentage: 0.129476584022\n",
      "# Matches: 37, Match Percentage: 0.101928374656\n",
      "# Matches: 47, Match Percentage: 0.129476584022\n",
      "# Matches: 45, Match Percentage: 0.123966942149\n",
      "# Matches: 44, Match Percentage: 0.121212121212\n",
      "# Matches: 47, Match Percentage: 0.129476584022\n",
      "# Matches: 49, Match Percentage: 0.134986225895\n",
      "# Matches: 39, Match Percentage: 0.107438016529\n",
      "# Matches: 32, Match Percentage: 0.0881542699725\n",
      "# Matches: 40, Match Percentage: 0.110192837466\n",
      "# Matches: 49, Match Percentage: 0.134986225895\n",
      "# Matches: 54, Match Percentage: 0.148760330579\n",
      "# Matches: 46, Match Percentage: 0.126721763085\n",
      "# Matches: 47, Match Percentage: 0.129476584022\n",
      "# Matches: 39, Match Percentage: 0.107438016529\n",
      "# Matches: 54, Match Percentage: 0.148760330579\n",
      "# Matches: 53, Match Percentage: 0.146005509642\n",
      "# Matches: 51, Match Percentage: 0.140495867769\n",
      "# Matches: 33, Match Percentage: 0.0909090909091\n",
      "# Matches: 47, Match Percentage: 0.129476584022\n",
      "# Matches: 46, Match Percentage: 0.126721763085\n",
      "# Matches: 42, Match Percentage: 0.115702479339\n",
      "# Matches: 40, Match Percentage: 0.110192837466\n",
      "# Matches: 37, Match Percentage: 0.101928374656\n",
      "# Matches: 43, Match Percentage: 0.118457300275\n",
      "# Matches: 35, Match Percentage: 0.0964187327824\n",
      "# Matches: 30, Match Percentage: 0.0826446280992\n",
      "# Matches: 41, Match Percentage: 0.112947658402\n",
      "# Matches: 44, Match Percentage: 0.121212121212\n",
      "# Matches: 40, Match Percentage: 0.110192837466\n",
      "# Matches: 41, Match Percentage: 0.112947658402\n",
      "# Matches: 34, Match Percentage: 0.0936639118457\n",
      "# Matches: 39, Match Percentage: 0.107438016529\n",
      "# Matches: 35, Match Percentage: 0.0964187327824\n",
      "# Matches: 31, Match Percentage: 0.0853994490358\n",
      "# Matches: 38, Match Percentage: 0.104683195592\n",
      "# Matches: 41, Match Percentage: 0.112947658402\n",
      "# Matches: 39, Match Percentage: 0.107438016529\n",
      "# Matches: 37, Match Percentage: 0.101928374656\n",
      "# Matches: 35, Match Percentage: 0.0964187327824\n",
      "# Matches: 34, Match Percentage: 0.0936639118457\n",
      "# Matches: 34, Match Percentage: 0.0936639118457\n",
      "# Matches: 44, Match Percentage: 0.121212121212\n",
      "# Matches: 48, Match Percentage: 0.132231404959\n",
      "# Matches: 44, Match Percentage: 0.121212121212\n",
      "# Matches: 38, Match Percentage: 0.104683195592\n",
      "# Matches: 42, Match Percentage: 0.115702479339\n",
      "# Matches: 40, Match Percentage: 0.110192837466\n",
      "# Matches: 50, Match Percentage: 0.137741046832\n",
      "# Matches: 36, Match Percentage: 0.099173553719\n",
      "# Matches: 34, Match Percentage: 0.0936639118457\n",
      "# Matches: 41, Match Percentage: 0.112947658402\n",
      "# Matches: 49, Match Percentage: 0.134986225895\n",
      "# Matches: 40, Match Percentage: 0.110192837466\n",
      "# Matches: 42, Match Percentage: 0.115702479339\n",
      "# Matches: 39, Match Percentage: 0.107438016529\n",
      "# Matches: 46, Match Percentage: 0.126721763085\n",
      "# Matches: 43, Match Percentage: 0.118457300275\n",
      "# Matches: 31, Match Percentage: 0.0853994490358\n",
      "# Matches: 38, Match Percentage: 0.104683195592\n",
      "# Matches: 50, Match Percentage: 0.137741046832\n",
      "# Matches: 33, Match Percentage: 0.0909090909091\n",
      "# Matches: 35, Match Percentage: 0.0964187327824\n",
      "# Matches: 42, Match Percentage: 0.115702479339\n",
      "# Matches: 41, Match Percentage: 0.112947658402\n",
      "# Matches: 41, Match Percentage: 0.112947658402\n",
      "# Matches: 41, Match Percentage: 0.112947658402\n",
      "# Matches: 49, Match Percentage: 0.134986225895\n",
      "# Matches: 44, Match Percentage: 0.121212121212\n",
      "# Matches: 47, Match Percentage: 0.129476584022\n",
      "# Matches: 36, Match Percentage: 0.099173553719\n",
      "# Matches: 36, Match Percentage: 0.099173553719\n",
      "END OF ROSPY RUN\n"
     ]
    }
   ],
   "source": [
    "queryImage = cv2.imread('one_way.jpg')\n",
    "kp_q, des_q = get_keypoints(queryImage)\n",
    "query_columns = 0\n",
    "\n",
    "# setup display\n",
    "display = IPython.display.display('', display_id=current_display_id)\n",
    "current_display_id += 1\n",
    "\n",
    "def detect_sign_live(frame):\n",
    "    detected, keypoint_query, keypoint_frame, good_matches = detect_sign(frame, kp_q, des_q)\n",
    "    frame, dst, x_center, y_center = find_object(frame, queryImage, detected, keypoint_query, keypoint_frame, good_matches, query_columns)\n",
    "    \n",
    "    if DEBUG:\n",
    "        cv2.circle(frame, (x_center, y_center), 30, (0, 255, 0), 5)\n",
    "        cv2.polylines(frame,[np.int32(dst)], True, (0, 0, 255), 3, cv2.LINE_AA)\n",
    "        show_frame(frame)\n",
    "\n",
    "rc.run(detect_sign_live, TEST_TIME)\n",
    "\n"
   ]
  },
  {
   "cell_type": "markdown",
   "metadata": {},
   "source": [
    "# Getting Angle"
   ]
  },
  {
   "cell_type": "code",
   "execution_count": 56,
   "metadata": {},
   "outputs": [],
   "source": [
    "TURN_FACTOR = 30          # max turn angle (in degrees)\n",
    "DRIVE_SPEED = 0.215       # car speed      "
   ]
  },
  {
   "cell_type": "code",
   "execution_count": 57,
   "metadata": {},
   "outputs": [],
   "source": [
    "def get_angle(contour_center):\n",
    "    max_angle = -abs(TURN_FACTOR) \n",
    "    \n",
    "    # TASK #1: Calculate the offset error\n",
    "    error = contour_center - float(SCREEN_CENTER)\n",
    "\n",
    "    # TASK #2: Calculate the ratio\n",
    "    ratio = error/SCREEN_CENTER\n",
    "\n",
    "    # TASK #3: Calculate the turn angle\n",
    "    angle = ratio*max_angle \n",
    "\n",
    "    # TASK #4: Return the turn angle\n",
    "    return angle"
   ]
  },
  {
   "cell_type": "markdown",
   "metadata": {},
   "source": [
    "# Screen Offset"
   ]
  },
  {
   "cell_type": "code",
   "execution_count": 75,
   "metadata": {},
   "outputs": [],
   "source": [
    "SCREEN_CENTER = 395.0     # pixel x-axis, camera is right-shifted"
   ]
  },
  {
   "cell_type": "code",
   "execution_count": 76,
   "metadata": {},
   "outputs": [
    {
     "data": {
      "image/jpeg": "[encoded data removed]",
      "text/plain": [
       "<IPython.core.display.Image object>"
      ]
     },
     "metadata": {},
     "output_type": "display_data"
    }
   ],
   "source": [
    "# mark location of SCREEN_CENTER (x-axis)\n",
    "def identify_center(img):\n",
    "    if SCREEN_CENTER < 0 or SCREEN_CENTER > img.shape[1]:\n",
    "        print('SCREEN_CENTER out of bounds! Your image is: {}'.format(img.shape[:2]))\n",
    "    cv2.circle(img, (int(SCREEN_CENTER), img.shape[0]/2), 5, (0,255,0), 3)\n",
    "    return img\n",
    "\n",
    "# display image\n",
    "show_image(identify_center)"
   ]
  },
  {
   "cell_type": "markdown",
   "metadata": {},
   "source": [
    "# Following the Sign"
   ]
  },
  {
   "cell_type": "code",
   "execution_count": 77,
   "metadata": {},
   "outputs": [],
   "source": [
    "DEBUG = True\n",
    "TEST_TIME = 10"
   ]
  },
  {
   "cell_type": "code",
   "execution_count": 78,
   "metadata": {
    "scrolled": true
   },
   "outputs": [
    {
     "name": "stdout",
     "output_type": "stream",
     "text": [
      "Match Percentage: 0%\n",
      "Match Percentage: 7.71%\n",
      "Match Percentage: 9.09%\n",
      "Match Percentage: 9.64%\n",
      "Match Percentage: 7.71%\n",
      "Match Percentage: 9.09%\n",
      "Match Percentage: 7.16%\n",
      "Match Percentage: 9.09%\n",
      "Match Percentage: 7.99%\n",
      "Match Percentage: 7.71%\n",
      "Match Percentage: 5.23%\n",
      "Match Percentage: 8.54%\n",
      "Match Percentage: 7.99%\n",
      "Match Percentage: 8.26%\n",
      "Match Percentage: 9.64%\n",
      "Match Percentage: 7.44%\n",
      "Match Percentage: 8.26%\n",
      "Match Percentage: 7.71%\n",
      "Match Percentage: 11.6%\n",
      "Match Percentage: 8.54%\n",
      "Match Percentage: 8.26%\n",
      "Match Percentage: 7.16%\n",
      "Match Percentage: 6.89%\n",
      "Match Percentage: 7.44%\n",
      "Match Percentage: 5.23%\n",
      "Match Percentage: 4.96%\n",
      "Match Percentage: 7.71%\n",
      "Match Percentage: 8.54%\n",
      "Match Percentage: 7.71%\n",
      "Match Percentage: 8.82%\n",
      "Match Percentage: 7.71%\n",
      "Match Percentage: 5.79%\n",
      "Match Percentage: 7.44%\n",
      "Match Percentage: 6.61%\n",
      "Match Percentage: 7.16%\n",
      "Match Percentage: 6.34%\n",
      "Match Percentage: 5.51%\n",
      "Match Percentage: 6.34%\n",
      "Match Percentage: 6.89%\n",
      "Match Percentage: 7.99%\n",
      "Match Percentage: 6.89%\n",
      "Match Percentage: 5.23%\n",
      "Match Percentage: 7.71%\n",
      "Match Percentage: 9.09%\n",
      "Match Percentage: 5.51%\n",
      "Match Percentage: 8.82%\n",
      "Match Percentage: 7.44%\n",
      "Match Percentage: 6.89%\n",
      "Match Percentage: 7.16%\n",
      "Match Percentage: 8.26%\n",
      "Match Percentage: 8.54%\n",
      "Match Percentage: 9.64%\n",
      "Match Percentage: 10.2%\n",
      "Match Percentage: 6.61%\n",
      "Match Percentage: 8.54%\n",
      "Match Percentage: 10.5%\n",
      "Match Percentage: 7.99%\n",
      "Match Percentage: 6.89%\n",
      "Match Percentage: 11%\n",
      "Match Percentage: 13.8%\n",
      "Match Percentage: 13.5%\n",
      "Match Percentage: 12.7%\n",
      "Match Percentage: 12.7%\n",
      "Match Percentage: 11.3%\n",
      "Match Percentage: 14.6%\n",
      "Match Percentage: 14.3%\n",
      "Match Percentage: 15.2%\n",
      "Match Percentage: 11.3%\n",
      "Match Percentage: 11%\n",
      "Match Percentage: 12.9%\n",
      "Match Percentage: 11.3%\n",
      "Match Percentage: 10.5%\n",
      "Match Percentage: 11.6%\n",
      "Match Percentage: 10.2%\n",
      "Match Percentage: 10.7%\n",
      "Match Percentage: 10.5%\n",
      "Match Percentage: 10.2%\n",
      "Match Percentage: 10.5%\n",
      "Match Percentage: 10.5%\n",
      "Match Percentage: 8.54%\n",
      "Match Percentage: 12.1%\n",
      "Match Percentage: 10.2%\n",
      "Match Percentage: 7.44%\n",
      "Match Percentage: 11.3%\n",
      "Match Percentage: 11.8%\n",
      "Match Percentage: 13.8%\n",
      "Match Percentage: 14.6%\n",
      "Match Percentage: 14%\n",
      "Match Percentage: 13.8%\n",
      "Match Percentage: 11%\n",
      "Match Percentage: 13.5%\n",
      "Match Percentage: 15.4%\n",
      "Match Percentage: 14.3%\n",
      "Match Percentage: 9.37%\n",
      "Match Percentage: 12.4%\n",
      "Match Percentage: 10.7%\n",
      "Match Percentage: 11.8%\n",
      "Match Percentage: 15.4%\n",
      "Match Percentage: 11.6%\n",
      "Match Percentage: 10.7%\n",
      "Match Percentage: 11.8%\n",
      "Match Percentage: 9.09%\n",
      "Match Percentage: 10.2%\n",
      "Match Percentage: 9.64%\n",
      "END OF ROSPY RUN\n"
     ]
    }
   ],
   "source": [
    "# Reading in image\n",
    "queryImage = cv2.imread('one_way.jpg')\n",
    "queryColumns = 0\n",
    "\n",
    "kp_q, des_q = get_keypoints(queryImage)\n",
    "\n",
    "def follow_sign(frame):\n",
    "    detected, keypoint_query, keypoint_frame, good_matches = detect_sign(frame, kp_q, des_q)\n",
    "    frame, dst, x_center, y_center = find_object(frame, queryImage, detected, keypoint_query, keypoint_frame, good_matches, queryColumns)\n",
    "    \n",
    "    speed = 0\n",
    "    angle = 0\n",
    "    if detected:\n",
    "        speed = DRIVE_SPEED\n",
    "        angle = get_angle(x_center)\n",
    "        \n",
    "    if DEBUG:\n",
    "        cv2.circle(frame, (x_center, y_center), 30, (0, 255, 0), 5)\n",
    "        cv2.polylines(frame,[np.int32(dst)], True, (0, 0, 255), 3, cv2.LINE_AA)\n",
    "        show_frame(frame)\n",
    "    \n",
    "    rc.drive(speed, angle)\n",
    "\n",
    "rc.run(follow_sign, TEST_TIME)\n"
   ]
  }
 ],
 "metadata": {
  "kernelspec": {
   "display_name": "Python 2",
   "language": "python",
   "name": "python2"
  },
  "language_info": {
   "codemirror_mode": {
    "name": "ipython",
    "version": 2
   },
   "file_extension": ".py",
   "mimetype": "text/x-python",
   "name": "python",
   "nbconvert_exporter": "python",
   "pygments_lexer": "ipython2",
   "version": "2.7.16"
  }
 },
 "nbformat": 4,
 "nbformat_minor": 2
}
