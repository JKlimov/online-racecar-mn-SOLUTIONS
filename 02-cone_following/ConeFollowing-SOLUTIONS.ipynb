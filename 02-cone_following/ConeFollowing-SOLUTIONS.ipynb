{
 "cells": [
  {
   "cell_type": "code",
   "execution_count": 1,
   "metadata": {
    "scrolled": true
   },
   "outputs": [
    {
     "name": "stdout",
     "output_type": "stream",
     "text": [
      "ROS node started successfully\n"
     ]
    }
   ],
   "source": [
    "# Import functions \n",
    "import sys\n",
    "sys.path.insert(0, '..')\n",
    "from racecar_utils import *"
   ]
  },
  {
   "cell_type": "markdown",
   "metadata": {},
   "source": [
    "# Cone Following\n",
    "\n",
    "<p style='font-size:1.75rem;line-height:1.5'>\n",
    "    Today's task will involve using our previous knowledge of contours, masking, and other OpenCV techniques to identify, follow, and park/stop a foot away from the cone.\n",
    "    </p>"
   ]
  },
  {
   "cell_type": "markdown",
   "metadata": {},
   "source": [
    "# Part 1: Cone Identification\n",
    "\n",
    "<p style='font-size:1.75rem;line-height:1.5'>\n",
    "    In this section, we will be identifying cones by masking and finding contours in the image. We will choose a particular color in the image, corresponding to our cone, by selecting HSV upper and lower bounds. We make a masked image that shows only our chosen color. Then, we'll find contours for that masked image, and use them to track the cone.\n",
    "    </p>"
   ]
  },
  {
   "cell_type": "markdown",
   "metadata": {},
   "source": [
    "### 1a. Find the HSV Values of the Cone\n",
    "\n",
    "<p style='font-size:1.75rem;line-height:1.5'>\n",
    "    Set the HSV lower and upper bounds to detect the cone!\n",
    "    <ol style='font-size:1.75rem;line-height:1.5'>\n",
    "        <li>Use <code>hsv_select(&lt;seconds&gt;)</code> to mask for the cone!</li>\n",
    "        <li>Update <code>HSV_LOWER</code> and <code>HSV_UPPER</code>!</li>\n",
    "    </ol>\n",
    "    </p>"
   ]
  },
  {
   "cell_type": "code",
   "execution_count": null,
   "metadata": {
    "scrolled": false
   },
   "outputs": [],
   "source": [
    "VIDEO_TIME = 120\n",
    "hsv_select_live(VIDEO_TIME) # default: 30 sec"
   ]
  },
  {
   "cell_type": "code",
   "execution_count": 2,
   "metadata": {},
   "outputs": [],
   "source": [
    "HSV_LOWER = np.array([42, 38, 0])\n",
    "HSV_UPPER = np.array([78, 144, 255])"
   ]
  },
  {
   "cell_type": "markdown",
   "metadata": {},
   "source": [
    "### 1b. <code>find_contours</code>\n",
    "\n",
    "<p style='font-size:1.75rem;line-height:1.5'>\n",
    "    This function finds and returns the contours and mask of <code>img</code>.\n",
    "    </p>"
   ]
  },
  {
   "cell_type": "code",
   "execution_count": 3,
   "metadata": {},
   "outputs": [],
   "source": [
    "def find_contours(img):\n",
    "    # TASK #1: Convert the img to from rgb to hsv.\n",
    "    img_hsv = cv2.cvtColor(img, cv2.COLOR_RGB2HSV)\n",
    "    \n",
    "    # TASK #2: Mask the image using HSV_LOWER and HSV_UPPER. Save as 'mask'.\n",
    "    mask = cv2.inRange(img_hsv, HSV_LOWER, HSV_UPPER)\n",
    "    \n",
    "    # TASK #3: Find the contours in the image. Save as 'contours'.\n",
    "    contours = cv2.findContours(mask, 3, 2)[0]\n",
    "    #print(contours)\n",
    "    return contours, mask"
   ]
  },
  {
   "cell_type": "markdown",
   "metadata": {},
   "source": [
    "### 1c. <code>check_contours_exist</code>\n",
    "\n",
    "<p style='font-size:1.75rem;line-height:1.5'>\n",
    "    This function checks that: 1. there are contours, 2. the contours are large enough.\n",
    "    </p>"
   ]
  },
  {
   "cell_type": "code",
   "execution_count": 4,
   "metadata": {},
   "outputs": [],
   "source": [
    "# The minimum required size of a detected contour to be considered a potential cone\n",
    "EXIST_SIZE = 10"
   ]
  },
  {
   "cell_type": "code",
   "execution_count": 5,
   "metadata": {
    "scrolled": true
   },
   "outputs": [],
   "source": [
    "def check_contours_exist(contours):\n",
    "    greatest_contour = None\n",
    "    \n",
    "    # TASK #1: If the contours list is empty, return (False, greatest_contour)\n",
    "    if contours == [] or contours is None:\n",
    "        print('No contours')\n",
    "        return (False, greatest_contour)\n",
    "    \n",
    "    greatest_contour = max(contours, key = cv2.contourArea) # get largest contour\n",
    "    \n",
    "    # TASK #2: If the contour area of the greatest contour is smaller than 'EXIST_SIZE', return (False, greatest_contour)\n",
    "    area = cv2.contourArea(greatest_contour)\n",
    "    if area < EXIST_SIZE:\n",
    "        print('Too small: {}'.format(area))\n",
    "        return (False, greatest_contour)\n",
    "    \n",
    "    return (True, greatest_contour)"
   ]
  },
  {
   "cell_type": "markdown",
   "metadata": {},
   "source": [
    "### 1d. Let's test our functions!\n",
    "\n",
    "<p style='font-size:1.75rem;line-height:1.5'>\n",
    "    Run the cell block below. Make sure that our function can identify the cone by drawing a bounding box around it. \n",
    "    </p>\n",
    "    \n",
    "<p style='font-size:1.75rem;line-height:1.5'>    \n",
    "    Modify the hsv bounds from above to find the best values for your racecar. Different lighting conditions will cause the bounds to change. The better your HSV values, the better your car will run!\n",
    "    </p>"
   ]
  },
  {
   "cell_type": "code",
   "execution_count": 6,
   "metadata": {},
   "outputs": [],
   "source": [
    "VIDEO_TIME = 60    # seconds to show the video for debugging!"
   ]
  },
  {
   "cell_type": "code",
   "execution_count": null,
   "metadata": {},
   "outputs": [],
   "source": [
    "def identify_cone(img):\n",
    "    # run student helper functions\n",
    "    contours, mask = find_contours(img)\n",
    "    contours_exist, greatest_contour = check_contours_exist(contours)\n",
    "    if contours_exist:\n",
    "        cv2.drawContours(img, [greatest_contour], -1, (0, 255, 0), 3)\n",
    "    \n",
    "    return img\n",
    "\n",
    "# display image or video\n",
    "show_video(identify_cone, VIDEO_TIME)"
   ]
  },
  {
   "cell_type": "markdown",
   "metadata": {},
   "source": [
    "# Part 2: Cone Following\n",
    "\n",
    "<p style='font-size:1.75rem;line-height:1.5'>\n",
    "    Now that our car can identify the cone, let us have our car follow the cone until it is one foot away from the cone. \n",
    "    </p>"
   ]
  },
  {
   "cell_type": "markdown",
   "metadata": {},
   "source": [
    "### 2a. Parameters\n",
    "\n",
    "<p style='font-size:1.75rem;line-height:1.5'>\n",
    "    We have provided some useful parameters for debugging your functions:\n",
    "    <ul style='font-size:1.75rem;line-height:1.5'>\n",
    "        <li><code>SCREEN_CENTER (float):</code> the camera is slightly shifted. Use this to re-set the center pixel location of your output image.</li>\n",
    "        <li><code>DRIVE_SPEED (float):</code> the speed of your racecar</li>\n",
    "        <li><code>MIN_SIZE (int):</code> contours smaller than this value is too small, make the car drive forwards to get closer</li>\n",
    "        <li><code>MAX_SIZE (int):</code> contour larger than this value is too large, make the car drive backwards to get further</li>\n",
    "        <li><code>TURN_FACTOR (float):</code> how much to turn the car (in degrees)</li>\n",
    "    </ul>\n",
    "    </p>"
   ]
  },
  {
   "cell_type": "code",
   "execution_count": 7,
   "metadata": {},
   "outputs": [],
   "source": [
    "# 2b: Fix camera offset\n",
    "SCREEN_CENTER = 325    # pixel x-axis, camera is right-shifted\n",
    "\n",
    "# 2c: get_speed\n",
    "DRIVE_SPEED = 0.05\n",
    "\n",
    "MIN_SIZE = 12000       # contour small, move forwards\n",
    "MAX_SIZE = 30000       # contour large, move backwards\n",
    "\n",
    "# 2d: get_angle\n",
    "MAX_ERROR = 0.267         # when to start turning\n",
    "TURN_FACTOR = 0.4       # max turn angle (in degrees)"
   ]
  },
  {
   "cell_type": "markdown",
   "metadata": {},
   "source": [
    "### 2b. Fix the camera offset\n",
    "\n",
    "<p style='font-size:1.75rem;line-height:1.5'>\n",
    "    The camera is slightly shifted horizontally (x-axis). \n",
    "    <br> Update <code>SCREEN_CENTER</code> to re-set the center pixel location of your output image.\n",
    "    </p>\n",
    "    \n",
    "<p style='font-size:1.75rem;line-height:1.5'>\n",
    "    The function below draws a circle at <code>SCREEN_CENTER</code>. \n",
    "    <br> How to find the correct value:\n",
    "    <ol style='font-size:1.75rem;line-height:1.5'>\n",
    "        <li>Place an object directly in front of your camera at where you think center is.</li>\n",
    "        <li>Run the two cell blocks below to test your <code>SCREEN_CENTER</code> value. </li>\n",
    "        <li>Your drawn circle should be matched to the center of the object in the outputted image. </li>\n",
    "    </ol>\n",
    "    </p>\n",
    "    \n",
    "<p style='font-size:1.75rem;line-height:1.5'>\n",
    "    Getting the correct <code>SCREEN_CENTER</code> value here will help you later in the the <code>get_angle</code> function.\n",
    "    </p>"
   ]
  },
  {
   "cell_type": "code",
   "execution_count": 12,
   "metadata": {},
   "outputs": [
    {
     "data": {
      "image/jpeg": "[encoded data removed]",
      "text/plain": [
       "<IPython.core.display.Image object>"
      ]
     },
     "metadata": {},
     "output_type": "display_data"
    }
   ],
   "source": [
    "# mark location of SCREEN_CENTER (x-axis)\n",
    "def identify_center(color_img):\n",
    "    if SCREEN_CENTER < 0 or SCREEN_CENTER > color_img.shape[1]:\n",
    "        print('SCREEN_CENTER out of bounds! Your image is: {}'.format(color_img.shape[:2]))\n",
    "    cv2.circle(color_img, (int(SCREEN_CENTER), color_img.shape[0]//2), 5, (0,255,0), 3)\n",
    "    return color_img\n",
    "\n",
    "# display image\n",
    "show_video(identify_center)"
   ]
  },
  {
   "cell_type": "markdown",
   "metadata": {},
   "source": [
    "### 2c. <code>get_speed</code>\n",
    "\n",
    "<p style='font-size:1.75rem;line-height:1.5'>\n",
    "    <code>get_speed</code> determines if the car will drive forwards or backwards depending on how close the car is to the cone. \n",
    "    <br>The closer the cone, the larger the contour will be.\n",
    "    </p>\n",
    "\n",
    "<p style='font-size:1.75rem;line-height:1.5'>\n",
    "    If the car is within a specific range (aka within 1 ft of the cone), then the car will not drive. \n",
    "    <br>Else it will drive forwards or backwards to get to the correct range.\n",
    "    </p>"
   ]
  },
  {
   "cell_type": "code",
   "execution_count": 9,
   "metadata": {},
   "outputs": [],
   "source": [
    "def get_speed(contour):\n",
    "    # TASK #1: Get the contour area of 'contour'\n",
    "    area = cv2.contourArea(contour)\n",
    "    \n",
    "    # TASK #2: If the contour area is smaller than the MIN_SIZE, set speed to DRIVE_SPEED. \n",
    "    #          If the contour area is larger than the MAX_SIZE, set speed to the -DRIVE_SPEED.\n",
    "    #          If the contour area is within range, set speed to 0 (don't drive).\n",
    "    if area < MIN_SIZE:\n",
    "        speed = DRIVE_SPEED\n",
    "        print('forward: {}'.format(area))\n",
    "    elif area > MAX_SIZE:\n",
    "        speed = -1 * DRIVE_SPEED\n",
    "        print('backward: {}'.format(area))\n",
    "    else:\n",
    "        speed = 0.0\n",
    "        print('parked!!!! {}'.format(area))\n",
    "        \n",
    "    return speed"
   ]
  },
  {
   "cell_type": "markdown",
   "metadata": {},
   "source": [
    "### 2d.  <code>get_angle</code>\n",
    "\n",
    "<p style='font-size:1.75rem;line-height:1.5'>\n",
    "    Now that we have identified the cone, we have to <b>determine what angle to turn the car</b> in order to stay a certain distance away from the cone.\n",
    "    </p>\n",
    "    \n",
    "<p style='font-size:1.75rem;line-height:1.5'>\n",
    "    <code>get_angle</code> returns the turn angle of the car. We will determine whether to turn left or right, and how much to turn, depending on the location of the cone in our image. When the cone is at the center of the image, the car and cone are aligned. \n",
    "    </p>\n",
    "    \n",
    "<p style='font-size:1.75rem;line-height:1.5'>\n",
    "    <b>Discuss with your group members some ways we might calculate the angle for the car to move.</b> \n",
    "    </p>\n",
    "\n",
    "<p style='font-size:1.75rem;line-height:1.5'>\n",
    "    <ul style='font-size:1.75rem;line-height:1.5'>\n",
    "        <li>The center of the cone is found at <code>contour_center</code></li>\n",
    "        <li>Calculate the offset error: \n",
    "            <br><code>error = contour_center - SCREEN_CENTER</code></li>\n",
    "        <li>Calculate the ratio that the cone is away from the center of the screen: \n",
    "            <br><code>ratio = error / SCREEN_CENTER</code></li>\n",
    "        <li>If the absolute value of the offset error is greater than the <code>MAX_ERROR</code>, multiply <code>ratio</code> by the <code>max_angle</code> to find the return angle. </li>\n",
    "    </ul>\n",
    "    </p>\n"
   ]
  },
  {
   "cell_type": "code",
   "execution_count": 10,
   "metadata": {},
   "outputs": [],
   "source": [
    "def get_angle(contour, goingForward):\n",
    "    \n",
    "    # find center of contour (aka. detected cone)\n",
    "    M = cv2.moments(contour)\n",
    "\n",
    "    contour_center = int(M['m10']/M['m00'])\n",
    "    ratio = 0 \n",
    "    # adjust sign of turn angle based on direction\n",
    "    max_angle = TURN_FACTOR  # positive\n",
    "\n",
    "    if goingForward:\n",
    "        max_angle = -TURN_FACTOR     # negative\n",
    "\n",
    "    # TASK #1: Calculate the offset error\n",
    "    error = contour_center - float(SCREEN_CENTER)\n",
    "\n",
    "    # TASK #2: If the absolute value of the offset error is larger than MAX_ERROR\n",
    "    if abs(error) > MAX_ERROR:\n",
    "\n",
    "        # TASK #3: Calculate the ratio\n",
    "        ratio = error / SCREEN_CENTER\n",
    "\n",
    "        # TASK #4: Calculate 'angle'\n",
    "        angle = ratio*max_angle\n",
    "\n",
    "    # TASK #5: Return 'angle'\n",
    "    #print(angle)\n",
    "        \n",
    "    return angle"
   ]
  },
  {
   "cell_type": "markdown",
   "metadata": {},
   "source": [
    "### 2e. Let's test our functions!\n",
    "\n",
    "<p style='font-size:1.75rem;line-height:1.5'>\n",
    "    Run the cell block below. Make sure that our function can identify the cone by drawing a bounding box around it. \n",
    "    </p>\n",
    "    \n",
    "<p style='font-size:1.75rem;line-height:1.5'>    \n",
    "    Modify the hsv bounds from above to find the best values for your racecar. Different lighting conditions will cause the bounds to change. The better your HSV values, the better your car will run!\n",
    "    </p>\n",
    "\n",
    "<p style='font-size:1.75rem;line-height:1.5'>    \n",
    "    Make sure to hold down the autonomous button to test your code!\n",
    "    </p>\n",
    "    \n",
    "<p style='font-size:1.75rem;line-height:1.5'>\n",
    "    <b style='color:red'>Remember to get a sticker from a TA before taking your car off the block!</b>\n",
    "    </p>"
   ]
  },
  {
   "cell_type": "code",
   "execution_count": 11,
   "metadata": {},
   "outputs": [],
   "source": [
    "TEST_TIME = 30"
   ]
  },
  {
   "cell_type": "code",
   "execution_count": null,
   "metadata": {
    "scrolled": true
   },
   "outputs": [],
   "source": [
    "def cone_follower(drive_function):\n",
    "    def cone_follow(color_img, depth_img):\n",
    "        speed, angle = [0.0, 0.0]\n",
    "   \n",
    "        # run student helper functions\n",
    "        contours, mask = find_contours(color_img)\n",
    "        contours_exist, greatest_contour = check_contours_exist(contours)\n",
    "        if (contours_exist is True) and (cv2.contourArea(greatest_contour) > EXIST_SIZE):\n",
    "            speed = get_speed(greatest_contour)\n",
    "            angle = get_angle(greatest_contour, speed >= 0)\n",
    "            cv2.drawContours(color_img, [greatest_contour], -1, (0, 255, 0), 2)\n",
    "            drive_function(speed, angle)\n",
    "        return color_img\n",
    "   \n",
    "    show_video(cone_follow, TEST_TIME, True, False)\n",
    "\n",
    "withDriving(cone_follower)"
   ]
  },
  {
   "cell_type": "markdown",
   "metadata": {},
   "source": [
    "### 2f. Using the Depth Image\n",
    "\n",
    "<p style='font-size:1.75rem;line-height:1.5'>\n",
    "    The Intel RealSense camera also gives us a depth image allowing us to see how distant objects are. Here we define a function that masks the depth image, finds the average depth of our contour, and returns a speed based on that value. \n",
    "    </p>\n",
    "    \n",
    "<p style='font-size:1.75rem;line-height:1.5'>\n",
    "    Run the code block below, then redefine the speed in <code>cone_follower</code> to:<br/>\n",
    "    <code>speed = get_depth_speed(greatest_contour, mask, depth_img)</code>.\n",
    "    </p>\n",
    "    \n",
    "<p style='font-size:1.75rem;line-height:1.5'>\n",
    "    Which <code>get_speed</code> function seems to work better?\n",
    "    </p>"
   ]
  },
  {
   "cell_type": "code",
   "execution_count": 12,
   "metadata": {},
   "outputs": [],
   "source": [
    "def get_depth_speed(contour, mask, depth_img):\n",
    "    masked_depth_img = cv2.bitwise_and(depth_img, depth_img, mask=mask)\n",
    "    nz = np.nonzero(masked_depth_img)\n",
    "    if (len(nz) == 0):\n",
    "        return 0.0\n",
    "    average = masked_depth_img[nz].mean()\n",
    "    if (average > 1300):\n",
    "        return DRIVE_SPEED\n",
    "    else:\n",
    "        return -DRIVE_SPEED"
   ]
  },
  {
   "cell_type": "code",
   "execution_count": null,
   "metadata": {},
   "outputs": [],
   "source": []
  }
 ],
 "metadata": {
  "kernelspec": {
   "display_name": "Python 3",
   "language": "python",
   "name": "python3"
  },
  "language_info": {
   "codemirror_mode": {
    "name": "ipython",
    "version": 3
   },
   "file_extension": ".py",
   "mimetype": "text/x-python",
   "name": "python",
   "nbconvert_exporter": "python",
   "pygments_lexer": "ipython3",
   "version": "3.6.9"
  }
 },
 "nbformat": 4,
 "nbformat_minor": 4
}
