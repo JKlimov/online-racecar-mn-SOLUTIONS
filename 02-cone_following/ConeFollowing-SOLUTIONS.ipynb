{
 "cells": [
  {
   "cell_type": "code",
   "execution_count": 1,
   "metadata": {
    "scrolled": true
   },
   "outputs": [],
   "source": [
    "# Import functions \n",
    "import sys\n",
    "sys.path.insert(0, '..')\n",
    "from racecar_utils import *   "
   ]
  },
  {
   "cell_type": "code",
   "execution_count": 2,
   "metadata": {},
   "outputs": [
    {
     "name": "stdout",
     "output_type": "stream",
     "text": [
      "ROS node started successfully\n"
     ]
    }
   ],
   "source": [
    "# Start ROS Node\n",
    "rospy.init_node('racecar')\n",
    "rc = Racecar()\n",
    "print('ROS node started successfully')"
   ]
  },
  {
   "cell_type": "markdown",
   "metadata": {},
   "source": [
    "# Cone Following\n",
    "\n",
    "<p style='font-size:1.75rem;line-height:1.5'>\n",
    "    Today's task will involve using our previous knowledge of contours, masking, and other opencv techniques to identify, follow, and park/stop a foot away from the cone.\n",
    "    </p>"
   ]
  },
  {
   "cell_type": "markdown",
   "metadata": {},
   "source": [
    "# Part 1: Cone Identification\n",
    "\n",
    "<p style='font-size:1.75rem;line-height:1.5'>\n",
    "    In this section, we will be identifying cones by masking and finding contours in the image.\n",
    "    </p>"
   ]
  },
  {
   "cell_type": "markdown",
   "metadata": {},
   "source": [
    "### 1a. Find the HSV Values of the Cone\n",
    "\n",
    "<p style='font-size:1.75rem;line-height:1.5'>\n",
    "    Set the HSV lower and upper bounds to detect the cone!\n",
    "    <ol style='font-size:1.75rem;line-height:1.5'>\n",
    "        <li>Use <code>hsv_select(&lt;seconds&gt;)</code> to mask for the cone!</li>\n",
    "        <li>Update <code>HSV_LOWER</code> and <code>HSV_UPPER</code>!</li>\n",
    "    </ol>\n",
    "    </p>"
   ]
  },
  {
   "cell_type": "code",
   "execution_count": 25,
   "metadata": {},
   "outputs": [
    {
     "data": {
      "image/jpeg": "[encoded data removed]",
      "text/plain": [
       "<IPython.core.display.Image object>"
      ]
     },
     "metadata": {},
     "output_type": "display_data"
    },
    {
     "data": {
      "application/vnd.jupyter.widget-view+json": {
       "model_id": "c81ddfd2710a49ebbfbdcf7d789f2e8a",
       "version_major": 2,
       "version_minor": 0
      },
      "text/plain": [
       "IntRangeSlider(value=(0, 179), description=u'Hue:', layout=Layout(width=u'100%'), max=179)"
      ]
     },
     "metadata": {},
     "output_type": "display_data"
    },
    {
     "data": {
      "application/vnd.jupyter.widget-view+json": {
       "model_id": "714e038b13c34a0da3ab31fb769e4c33",
       "version_major": 2,
       "version_minor": 0
      },
      "text/plain": [
       "IntRangeSlider(value=(0, 255), description=u'Saturation:', layout=Layout(width=u'100%'), max=255)"
      ]
     },
     "metadata": {},
     "output_type": "display_data"
    },
    {
     "data": {
      "application/vnd.jupyter.widget-view+json": {
       "model_id": "ad74fde36bc546b8beb87ac370896840",
       "version_major": 2,
       "version_minor": 0
      },
      "text/plain": [
       "IntRangeSlider(value=(0, 255), description=u'Value:', layout=Layout(width=u'100%'), max=255)"
      ]
     },
     "metadata": {},
     "output_type": "display_data"
    }
   ],
   "source": [
    "VIDEO_TIME = 10\n",
    "hsv_select_live(VIDEO_TIME) # default: 10 sec"
   ]
  },
  {
   "cell_type": "code",
   "execution_count": 3,
   "metadata": {},
   "outputs": [],
   "source": [
    "HSV_LOWER = np.array([0, 46, 195])\n",
    "HSV_UPPER = np.array([47, 255, 255])"
   ]
  },
  {
   "cell_type": "markdown",
   "metadata": {},
   "source": [
    "### 1b. <code>find_contours</code>\n",
    "\n",
    "<p style='font-size:1.75rem;line-height:1.5'>\n",
    "    This function finds and returns the contours and mask of <code>img</code>.\n",
    "    </p>"
   ]
  },
  {
   "cell_type": "code",
   "execution_count": 4,
   "metadata": {},
   "outputs": [],
   "source": [
    "def find_contours(img):\n",
    "    # TASK #1: Convert the img to from bgr to hsv.\n",
    "    img_hsv = cv2.cvtColor(img, cv2.COLOR_BGR2HSV)\n",
    "    \n",
    "    # TASK #2: Mask the image using HSV_LOWER and HSV_UPPER. Save as 'mask'.\n",
    "    mask = cv2.inRange(img_hsv, HSV_LOWER, HSV_UPPER)\n",
    "    \n",
    "    # TASK #3: Find the contours in the image. Save as 'contours'.\n",
    "    contours = cv2.findContours(mask, 3, 2)[1]\n",
    "    \n",
    "    return contours, mask"
   ]
  },
  {
   "cell_type": "markdown",
   "metadata": {},
   "source": [
    "### 1c. <code>check_contours_exist</code>\n",
    "\n",
    "<p style='font-size:1.75rem;line-height:1.5'>\n",
    "    This function checks that: 1. there are contours, 2. the contours are large enough.\n",
    "    </p>"
   ]
  },
  {
   "cell_type": "code",
   "execution_count": 5,
   "metadata": {},
   "outputs": [],
   "source": [
    "# The minimum required size of a detected contour to be considered a potential cone\n",
    "EXIST_SIZE = 30   "
   ]
  },
  {
   "cell_type": "code",
   "execution_count": 6,
   "metadata": {
    "scrolled": true
   },
   "outputs": [],
   "source": [
    "def check_contours_exist(contours):\n",
    "    greatest_contour = None\n",
    "    \n",
    "    # TASK #1: If the contours list is empty, return (False, greatest_contour)\n",
    "    if contours == [] or contours is None:\n",
    "        print('No contours')\n",
    "        return (False, greatest_contour)\n",
    "    \n",
    "    greatest_contour = max(contours, key = cv2.contourArea) # get largest contour\n",
    "    \n",
    "    # TASK #2: If the contour area of the greatest contour is smaller than 'EXIST_SIZE', return (False, greatest_contour)\n",
    "    area = cv2.contourArea(greatest_contour)\n",
    "    if area < EXIST_SIZE:\n",
    "        print('Too small: {}'.format(area))\n",
    "        return (False, greatest_contour)\n",
    "    \n",
    "    return (True, greatest_contour)"
   ]
  },
  {
   "cell_type": "markdown",
   "metadata": {},
   "source": [
    "### 1d. Let's test our functions!\n",
    "\n",
    "<p style='font-size:1.75rem;line-height:1.5'>\n",
    "    Run the cell block below. Make sure that our function can identify the cone by drawing a bounding box around it. \n",
    "    </p>\n",
    "    \n",
    "<p style='font-size:1.75rem;line-height:1.5'>    \n",
    "    Modify the hsv bounds from above to find the best values for your racecar. Different lighting conditions will cause the bounds to change. The better your HSV values, the better your car will run!\n",
    "    </p>"
   ]
  },
  {
   "cell_type": "code",
   "execution_count": 7,
   "metadata": {},
   "outputs": [],
   "source": [
    "VIDEO = True        # toggle between showing the camera video (True) or camera image (False)\n",
    "VIDEO_TIME = 30    # seconds to show the video for debugging!"
   ]
  },
  {
   "cell_type": "code",
   "execution_count": 42,
   "metadata": {},
   "outputs": [
    {
     "data": {
      "image/jpeg": "[encoded data removed]",
      "text/plain": [
       "<IPython.core.display.Image object>"
      ]
     },
     "metadata": {},
     "output_type": "display_data"
    },
    {
     "name": "stdout",
     "output_type": "stream",
     "text": [
      "No contours\n",
      "Too small: 13.0\n",
      "Too small: 16.5\n",
      "Too small: 21.5\n",
      "Too small: 17.5\n",
      "Too small: 9.5\n",
      "Too small: 1.5\n",
      "Too small: 5.0\n",
      "Too small: 0.5\n",
      "Too small: 5.0\n",
      "Too small: 0.5\n",
      "No contours\n",
      "Too small: 0.5\n",
      "No contours\n",
      "Too small: 26.5\n",
      "Video feed is in use. Please run again or restart kernel.\n",
      "Video feed is in use. Please run again or restart kernel.\n",
      "END OF ROSPY RUN\n"
     ]
    }
   ],
   "source": [
    "last_time = time.time()\n",
    "def identify_cone(img):\n",
    "    global last_time\n",
    "    \n",
    "    # run student helper functions\n",
    "    contours, mask = find_contours(img)\n",
    "    contours_exist, greatest_contour = check_contours_exist(contours)\n",
    "    if contours_exist:\n",
    "        cv2.drawContours(img, [greatest_contour], -1, (0, 255, 0), 3)\n",
    "    \n",
    "    # decrease frames per sec \n",
    "    if VIDEO and time.time()-last_time>=1:\n",
    "        show_frame(img)\n",
    "        last_time = time.time()\n",
    "    \n",
    "    return img\n",
    "\n",
    "# display image or video\n",
    "if VIDEO: show_video(identify_cone, VIDEO_TIME, rc)\n",
    "else: show_image(identify_cone) "
   ]
  },
  {
   "cell_type": "markdown",
   "metadata": {},
   "source": [
    "# Part 2: Cone Following\n",
    "\n",
    "<p style='font-size:1.75rem;line-height:1.5'>\n",
    "    Now that our car can identify the cone, let us have our car follow the cone until it is one foot away from the cone. \n",
    "    </p>"
   ]
  },
  {
   "cell_type": "markdown",
   "metadata": {},
   "source": [
    "### 2a. Parameters\n",
    "\n",
    "<p style='font-size:1.75rem;line-height:1.5'>\n",
    "    We have provided some useful parameters for debugging your functions:\n",
    "    <ul style='font-size:1.75rem;line-height:1.5'>\n",
    "        <li><code>SCREEN_CENTER (float):</code> the camera is slightly shifted. Use this to re-set the center pixel location of your output image.</li>\n",
    "        <li><code>DRIVE_SPEED (float):</code> the speed of your racecar</li>\n",
    "        <li><code>MIN_SIZE (int):</code> contours smaller than this value is too small, make the car drive forwards to get closer</li>\n",
    "        <li><code>MAX_SIZE (int):</code> contour larger than this value is too large, make the car drive backwards to get further</li>\n",
    "        <li><code>TURN_FACTOR (float):</code> how much to turn the car (in degrees)</li>\n",
    "    </ul>\n",
    "    </p>"
   ]
  },
  {
   "cell_type": "code",
   "execution_count": 13,
   "metadata": {},
   "outputs": [],
   "source": [
    "# 2b: Fix camera offset\n",
    "SCREEN_CENTER = 395    # pixel x-axis, camera is right-shifted\n",
    "\n",
    "# 2c: get_speed\n",
    "DRIVE_SPEED = 0.215    # should be a float between 0 to 1\n",
    "MIN_SIZE = 12000       # contour small, move forwards\n",
    "MAX_SIZE = 30000       # contour large, move backwards\n",
    "\n",
    "# 2d: get_angle\n",
    "MAX_ERROR = 20         # when to start turning\n",
    "TURN_FACTOR = 30       # max turn angle (in degrees)"
   ]
  },
  {
   "cell_type": "markdown",
   "metadata": {},
   "source": [
    "### 2b. Fix the camera offset\n",
    "\n",
    "<p style='font-size:1.75rem;line-height:1.5'>\n",
    "    The camera is slightly shifted horizontally (x-axis). \n",
    "    <br> Update <code>SCREEN_CENTER</code> to re-set the center pixel location of your output image.\n",
    "    </p>\n",
    "    \n",
    "<p style='font-size:1.75rem;line-height:1.5'>\n",
    "    The function below draws a circle at <code>SCREEN_CENTER</code>. \n",
    "    <br> How to find the correct value:\n",
    "    <ol style='font-size:1.75rem;line-height:1.5'>\n",
    "        <li>Place an object directly in front of your camera at where you think center is.</li>\n",
    "        <li>Run the two cell blocks below to test your <code>SCREEN_CENTER</code> value. </li>\n",
    "        <li>Your drawn circle should be matched to the center of the object in the outputted image. </li>\n",
    "    </ol>\n",
    "    </p>\n",
    "    \n",
    "<p style='font-size:1.75rem;line-height:1.5'>\n",
    "    Getting the correct <code>SCREEN_CENTER</code> value here will help you later in the the <code>get_angle</code> function.\n",
    "    </p>"
   ]
  },
  {
   "cell_type": "code",
   "execution_count": 14,
   "metadata": {},
   "outputs": [
    {
     "data": {
      "image/jpeg": "[encoded data removed]",
      "text/plain": [
       "<IPython.core.display.Image object>"
      ]
     },
     "metadata": {},
     "output_type": "display_data"
    }
   ],
   "source": [
    "last_time = time.time()\n",
    "\n",
    "# mark location of SCREEN_CENTER (x-axis)\n",
    "def identify_center(img):\n",
    "    global last_time\n",
    "    if SCREEN_CENTER < 0 or SCREEN_CENTER > img.shape[1]:\n",
    "        print('SCREEN_CENTER out of bounds! Your image is: {}'.format(img.shape[:2]))\n",
    "    cv2.circle(img, (int(SCREEN_CENTER), img.shape[0]/2), 5, (0,255,0), 3)\n",
    "    return img\n",
    "\n",
    "# display image\n",
    "show_image(identify_center)"
   ]
  },
  {
   "cell_type": "markdown",
   "metadata": {},
   "source": [
    "### 2c. <code>get_speed</code>\n",
    "\n",
    "<p style='font-size:1.75rem;line-height:1.5'>\n",
    "    <code>get_speed</code> determines if the car will drive forwards or backwards depending on how close the car is to the cone. \n",
    "    <br>The closer the cone, the larger the contour will be.\n",
    "    </p>\n",
    "\n",
    "<p style='font-size:1.75rem;line-height:1.5'>\n",
    "    If the car is within a specific range (aka within 1 ft of the cone), then the car will not drive. \n",
    "    <br>Else it will drive forwards or backwards to get to the correct range.\n",
    "    </p>"
   ]
  },
  {
   "cell_type": "code",
   "execution_count": 21,
   "metadata": {},
   "outputs": [],
   "source": [
    "def get_speed(contour):\n",
    "    # TASK #1: Get the contour area of 'contour'\n",
    "    area = cv2.contourArea(contour)\n",
    "    \n",
    "    # TASK #2: If the contour area is smaller than the MIN_SIZE, set speed to DRIVE_SPEED. \n",
    "    #          If the contour area is larger than the MAX_SIZE, set speed to the -DRIVE_SPEED.\n",
    "    #          If the contour area is within range, set speed to 0 (don't drive).\n",
    "    if area < MIN_SIZE:\n",
    "        speed = DRIVE_SPEED\n",
    "        print('forwards: {}'.format(area))\n",
    "    elif area > MAX_SIZE:\n",
    "        speed = -1 * DRIVE_SPEED\n",
    "        print('backwards: {}'.format(area))\n",
    "    else:\n",
    "        speed = 0\n",
    "        print('parked!!!! {}'.format(area))\n",
    "        \n",
    "    return speed"
   ]
  },
  {
   "cell_type": "markdown",
   "metadata": {},
   "source": [
    "### 2d.  <code>get_angle</code>\n",
    "\n",
    "<p style='font-size:1.75rem;line-height:1.5'>\n",
    "    Now that we have identified the cone, we have to <b>determine what angle to turn the car</b> in order to stay a certain distance away from the cone.\n",
    "    </p>\n",
    "    \n",
    "<p style='font-size:1.75rem;line-height:1.5'>\n",
    "    <code>get_angle</code> returns the turn angle of the car. We will determine whether to turn left or right, and how much to turn, depending on the location of the cone in our image. When the cone is at the center of the image, the car and cone are aligned. \n",
    "    </p>\n",
    "    \n",
    "<p style='font-size:1.75rem;line-height:1.5'>\n",
    "    <b>Discuss with your group members some ways we might calculate the angle for the car to move.</b> \n",
    "    </p>\n",
    "\n",
    "<p style='font-size:1.75rem;line-height:1.5'>\n",
    "    <ul style='font-size:1.75rem;line-height:1.5'>\n",
    "        <li>The center of the cone is found at <code>contour_center</code></li>\n",
    "        <li>Calculate the offset error: \n",
    "            <br><code>error = contour_center - float(SCREEN_CENTER)</code></li>\n",
    "        <li>Calculate the ratio that the cone is away from the center of the screen: \n",
    "            <br><code>ratio = error / SCREEN_CENTER</code></li>\n",
    "        <li>If the absolute value of the offset error is greater than the <code>MAX_ERROR</code>, multiply <code>ratio</code> by the <code>max_angle</code> to find the return angle. </li>\n",
    "    </ul>\n",
    "    </p>\n"
   ]
  },
  {
   "cell_type": "code",
   "execution_count": 16,
   "metadata": {},
   "outputs": [],
   "source": [
    "def get_angle(contour, res):\n",
    "    speed, angle = res\n",
    "    \n",
    "    # find center of contour (aka. detected cone)\n",
    "    M = cv2.moments(contour)\n",
    "    if M['m00'] != 0.0:\n",
    "        contour_center = int(M['m10']/M['m00'])\n",
    "        ratio = 0 \n",
    "        # adjust turn direction based on speed direction\n",
    "        max_angle = -abs(TURN_FACTOR)     # negative\n",
    "        if speed < 0:\n",
    "            max_angle = abs(TURN_FACTOR)  # positive\n",
    "        \n",
    "        # TASK #1: Calculate the offset error\n",
    "        error = contour_center - float(SCREEN_CENTER)\n",
    "        \n",
    "        # TASK #2: If the absolute value of the offset error is larger than MAX_ERROR\n",
    "        if abs(error) > MAX_ERROR:\n",
    "\n",
    "            # TASK #3: Calculate the ratio\n",
    "            ratio = error / SCREEN_CENTER\n",
    "\n",
    "            # TASK #4: Calculate 'angle'\n",
    "            angle = ratio*max_angle\n",
    "\n",
    "            # TASK #5: Return 'angle'\n",
    "            return angle\n",
    "        \n",
    "    return angle"
   ]
  },
  {
   "cell_type": "markdown",
   "metadata": {},
   "source": [
    "### 2f. Let's test our functions!\n",
    "\n",
    "<p style='font-size:1.75rem;line-height:1.5'>\n",
    "    Run the cell block below. Make sure that our function can identify the cone by drawing a bounding box around it. \n",
    "    </p>\n",
    "    \n",
    "<p style='font-size:1.75rem;line-height:1.5'>    \n",
    "    Modify the hsv bounds from above to find the best values for your racecar. Different lighting conditions will cause the bounds to change. The better your HSV values, the better your car will run!\n",
    "    </p>\n",
    "\n",
    "<p style='font-size:1.75rem;line-height:1.5'>    \n",
    "    Make sure to hold down the autonomous button to test your code!\n",
    "    </p>\n",
    "    \n",
    "<p style='font-size:1.75rem;line-height:1.5'>\n",
    "    <b style='color:red'>Remember to get a sticker from a TA before taking your car off the block!</b>\n",
    "    </p>"
   ]
  },
  {
   "cell_type": "code",
   "execution_count": null,
   "metadata": {},
   "outputs": [],
   "source": [
    "TEST_TIME = 20"
   ]
  },
  {
   "cell_type": "code",
   "execution_count": 22,
   "metadata": {
    "scrolled": true
   },
   "outputs": [
    {
     "name": "stdout",
     "output_type": "stream",
     "text": [
      "No contours\n",
      "forwards: 4367.5\n",
      "forwards: 4610.5\n",
      "forwards: 6275.5\n",
      "forwards: 10180.5\n",
      "parked!!!! 12225.5\n",
      "parked!!!! 15051.5\n",
      "parked!!!! 14050.5\n",
      "parked!!!! 15012.0\n",
      "parked!!!! 14149.0\n",
      "parked!!!! 14133.0\n",
      "parked!!!! 14123.5\n",
      "parked!!!! 14061.0\n",
      "parked!!!! 14026.5\n",
      "parked!!!! 13988.0\n",
      "parked!!!! 13904.5\n",
      "parked!!!! 13868.5\n",
      "parked!!!! 13830.0\n",
      "parked!!!! 13807.5\n",
      "parked!!!! 13675.0\n",
      "parked!!!! 13557.0\n",
      "parked!!!! 13374.5\n",
      "parked!!!! 13455.5\n",
      "parked!!!! 13301.5\n",
      "parked!!!! 13002.0\n",
      "parked!!!! 13055.0\n",
      "parked!!!! 12692.5\n",
      "parked!!!! 12818.0\n",
      "parked!!!! 12830.5\n",
      "parked!!!! 12931.5\n",
      "parked!!!! 12917.5\n",
      "parked!!!! 12931.0\n",
      "parked!!!! 12955.5\n",
      "parked!!!! 12907.0\n",
      "parked!!!! 12964.5\n",
      "parked!!!! 12874.5\n",
      "parked!!!! 12485.0\n",
      "forwards: 8259.0\n",
      "forwards: 8493.0\n",
      "forwards: 8475.5\n",
      "parked!!!! 13064.0\n",
      "parked!!!! 14057.0\n",
      "parked!!!! 17821.5\n",
      "parked!!!! 21851.5\n",
      "parked!!!! 26848.0\n",
      "backwards: 37380.5\n",
      "backwards: 47961.0\n",
      "backwards: 65014.0\n",
      "backwards: 86983.0\n",
      "backwards: 103819.5\n",
      "backwards: 84021.5\n",
      "backwards: 71959.0\n",
      "backwards: 63921.5\n",
      "backwards: 42472.5\n",
      "backwards: 30245.0\n",
      "parked!!!! 28358.5\n",
      "parked!!!! 27923.5\n",
      "backwards: 32176.0\n",
      "backwards: 49195.5\n",
      "backwards: 81708.5\n",
      "backwards: 115122.5\n",
      "backwards: 172275.5\n",
      "backwards: 180650.5\n",
      "backwards: 180219.0\n",
      "backwards: 145337.5\n",
      "backwards: 132686.5\n",
      "backwards: 120040.0\n",
      "backwards: 115009.5\n",
      "backwards: 93443.5\n",
      "backwards: 79855.0\n",
      "backwards: 70523.0\n",
      "backwards: 63142.5\n",
      "backwards: 57732.5\n",
      "backwards: 52801.0\n",
      "backwards: 30426.0\n",
      "parked!!!! 25647.0\n",
      "parked!!!! 16089.0\n",
      "parked!!!! 13652.5\n",
      "parked!!!! 14282.0\n",
      "parked!!!! 18651.0\n",
      "parked!!!! 22585.5\n",
      "parked!!!! 25777.5\n",
      "parked!!!! 28406.0\n",
      "parked!!!! 29885.0\n",
      "backwards: 45471.0\n",
      "backwards: 46330.0\n",
      "parked!!!! 27710.0\n",
      "backwards: 45872.0\n",
      "backwards: 52579.0\n",
      "backwards: 64252.0\n",
      "backwards: 43559.5\n",
      "backwards: 45172.0\n",
      "backwards: 40378.5\n",
      "parked!!!! 24537.0\n",
      "forwards: 2285.0\n",
      "forwards: 62.0\n",
      "Too small: 0.0\n",
      "Too small: 0.0\n",
      "Too small: 0.5\n",
      "Too small: 3.5\n",
      "Too small: 4.5\n",
      "Too small: 3.5\n",
      "Too small: 6.0\n",
      "Too small: 0.0\n",
      "Too small: 0.5\n",
      "Too small: 0.0\n",
      "Too small: 2.5\n",
      "Too small: 0.5\n",
      "Too small: 2.5\n",
      "Too small: 0.0\n",
      "Too small: 0.5\n",
      "Too small: 0.0\n",
      "Too small: 0.0\n",
      "Too small: 3.0\n",
      "No contours\n",
      "No contours\n",
      "Too small: 0.0\n",
      "Too small: 0.5\n",
      "Too small: 0.5\n",
      "Too small: 0.0\n",
      "Too small: 0.0\n",
      "Too small: 0.5\n",
      "Too small: 0.5\n",
      "forwards: 46.5\n",
      "forwards: 234.0\n",
      "forwards: 474.0\n",
      "forwards: 5500.5\n",
      "forwards: 11818.5\n",
      "parked!!!! 12332.0\n",
      "parked!!!! 12599.5\n",
      "parked!!!! 12014.5\n",
      "forwards: 9747.5\n",
      "forwards: 4329.5\n",
      "forwards: 3173.5\n",
      "forwards: 1467.5\n",
      "forwards: 567.0\n",
      "forwards: 413.0\n",
      "forwards: 425.5\n",
      "forwards: 207.0\n",
      "forwards: 159.0\n",
      "forwards: 119.5\n",
      "forwards: 86.5\n",
      "forwards: 100.5\n",
      "forwards: 86.5\n",
      "forwards: 169.0\n",
      "forwards: 136.5\n",
      "forwards: 137.0\n",
      "forwards: 158.0\n",
      "forwards: 213.5\n",
      "forwards: 124.0\n",
      "forwards: 262.5\n",
      "forwards: 236.5\n",
      "forwards: 240.0\n",
      "forwards: 286.0\n",
      "forwards: 280.5\n",
      "forwards: 246.0\n",
      "forwards: 220.5\n",
      "forwards: 215.5\n",
      "forwards: 223.5\n",
      "forwards: 264.5\n",
      "forwards: 314.5\n",
      "forwards: 347.5\n",
      "forwards: 357.5\n",
      "forwards: 417.0\n",
      "forwards: 389.0\n",
      "forwards: 337.0\n",
      "forwards: 220.0\n",
      "forwards: 144.0\n",
      "forwards: 96.0\n",
      "forwards: 165.0\n",
      "forwards: 1616.5\n",
      "forwards: 6467.0\n",
      "forwards: 9802.5\n",
      "parked!!!! 12482.0\n",
      "parked!!!! 13925.5\n",
      "parked!!!! 16141.0\n",
      "parked!!!! 16559.0\n",
      "parked!!!! 17318.0\n",
      "parked!!!! 14009.5\n",
      "forwards: 11331.5\n",
      "forwards: 8972.5\n",
      "forwards: 618.0\n",
      "Too small: 1.5\n",
      "Too small: 6.0\n",
      "Too small: 0.0\n",
      "Too small: 0.0\n",
      "Too small: 1.0\n",
      "Too small: 1.5\n",
      "Too small: 7.0\n",
      "Too small: 0.0\n",
      "Too small: 0.0\n",
      "Too small: 2.5\n",
      "Too small: 0.0\n",
      "Too small: 0.5\n",
      "Too small: 0.5\n",
      "forwards: 98.0\n",
      "forwards: 857.0\n",
      "forwards: 1769.0\n",
      "forwards: 3310.0\n",
      "forwards: 4894.5\n",
      "forwards: 6459.5\n",
      "forwards: 5357.0\n",
      "forwards: 5721.0\n",
      "forwards: 6156.5\n",
      "forwards: 4940.5\n",
      "forwards: 5476.0\n",
      "forwards: 5308.0\n",
      "forwards: 5435.0\n",
      "forwards: 5033.5\n",
      "forwards: 4350.0\n",
      "forwards: 3990.0\n",
      "forwards: 4393.0\n",
      "forwards: 4153.5\n",
      "forwards: 4019.0\n",
      "forwards: 3732.5\n",
      "forwards: 3847.5\n",
      "forwards: 3189.0\n",
      "forwards: 2174.5\n",
      "forwards: 1828.0\n",
      "forwards: 1803.0\n",
      "forwards: 1449.0\n",
      "forwards: 738.5\n",
      "Too small: 7.0\n",
      "Too small: 0.5\n",
      "Too small: 0.5\n",
      "Too small: 6.5\n",
      "Too small: 4.5\n",
      "Too small: 0.5\n",
      "Too small: 1.0\n",
      "Too small: 1.5\n",
      "Too small: 1.5\n",
      "No contours\n",
      "No contours\n",
      "Too small: 7.0\n",
      "No contours\n",
      "No contours\n",
      "No contours\n",
      "Too small: 3.0\n",
      "Too small: 5.5\n",
      "Too small: 9.0\n",
      "Too small: 4.0\n",
      "Too small: 5.0\n",
      "Too small: 0.5\n",
      "Too small: 4.5\n",
      "Too small: 3.5\n",
      "Too small: 0.0\n",
      "Too small: 1.5\n",
      "Too small: 0.0\n",
      "No contours\n",
      "No contours\n",
      "No contours\n",
      "forwards: 44.5\n",
      "forwards: 61.0\n",
      "forwards: 176.5\n",
      "forwards: 386.5\n",
      "forwards: 453.0\n",
      "forwards: 479.0\n",
      "forwards: 475.5\n",
      "forwards: 618.0\n",
      "forwards: 941.0\n",
      "forwards: 1183.0\n",
      "forwards: 1540.0\n",
      "forwards: 1783.5\n",
      "forwards: 2353.5\n",
      "forwards: 3302.0\n",
      "forwards: 4770.5\n",
      "forwards: 5069.5\n",
      "forwards: 7492.5\n",
      "forwards: 9265.0\n",
      "forwards: 11255.0\n",
      "parked!!!! 12577.5\n",
      "parked!!!! 13777.0\n",
      "parked!!!! 13704.0\n",
      "forwards: 9249.0\n",
      "forwards: 9372.0\n",
      "forwards: 11172.5\n",
      "parked!!!! 12467.0\n",
      "parked!!!! 12709.0\n",
      "parked!!!! 14155.5\n",
      "parked!!!! 13861.5\n",
      "parked!!!! 15580.0\n",
      "parked!!!! 12645.5\n",
      "forwards: 8956.5\n",
      "forwards: 5117.5\n",
      "forwards: 4777.5\n",
      "forwards: 2963.5\n",
      "forwards: 2118.0\n",
      "forwards: 2055.5\n",
      "forwards: 1641.0\n",
      "END OF ROSPY RUN\n"
     ]
    }
   ],
   "source": [
    "last_time = time.time()\n",
    "def cone_follow(img):\n",
    "    global last_time\n",
    "    speed, angle = [0, 0]\n",
    "    \n",
    "    # run student helper functions\n",
    "    contours, mask = find_contours(img) \n",
    "    contours_exist, greatest_contour = check_contours_exist(contours)\n",
    "    if (contours_exist is True) and (cv2.contourArea(greatest_contour) > EXIST_SIZE):\n",
    "        speed = get_speed(greatest_contour)\n",
    "        angle = get_angle(greatest_contour, (speed, angle))\n",
    "        contour_area = cv2.contourArea(greatest_contour)\n",
    "        cv2.drawContours(img, [greatest_contour], -1, (0,255, 0), 2)\n",
    "        rc.drive(speed, angle)\n",
    "    \n",
    "    # decrease frames per sec \n",
    "    if VIDEO and time.time()-last_time>=1:\n",
    "        show_frame(img)\n",
    "        last_time = time.time()\n",
    "        \n",
    "    return img\n",
    "    \n",
    "# too small, range to stop: min to max\n",
    "rc.run(cone_follow, limit=TEST_TIME) "
   ]
  }
 ],
 "metadata": {
  "celltoolbar": "Raw Cell Format",
  "kernelspec": {
   "display_name": "Python 2",
   "language": "python",
   "name": "python2"
  },
  "language_info": {
   "codemirror_mode": {
    "name": "ipython",
    "version": 2
   },
   "file_extension": ".py",
   "mimetype": "text/x-python",
   "name": "python",
   "nbconvert_exporter": "python",
   "pygments_lexer": "ipython2",
   "version": "2.7.16"
  }
 },
 "nbformat": 4,
 "nbformat_minor": 2
}
