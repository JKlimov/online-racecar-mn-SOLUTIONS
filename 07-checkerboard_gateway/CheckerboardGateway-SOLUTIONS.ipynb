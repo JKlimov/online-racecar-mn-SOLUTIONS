{
 "cells": [
  {
   "cell_type": "code",
   "execution_count": 3,
   "metadata": {},
   "outputs": [],
   "source": [
    "# Import functions \n",
    "import sys\n",
    "sys.path.insert(0, '..')\n",
    "from racecar_utils import * "
   ]
  },
  {
   "cell_type": "code",
   "execution_count": null,
   "metadata": {},
   "outputs": [],
   "source": [
    "# Start ROS Node\n",
    "rospy.init_node('racecar')\n",
    "rc = Racecar()\n",
    "print('ROS node started successfully')"
   ]
  },
  {
   "cell_type": "markdown",
   "metadata": {},
   "source": [
    "# Checkerboard Gateway Lab\n",
    "\n",
    "## Gateways\n",
    "\n",
    "<p style='font-size:1.75rem;line-height:1.5'>\n",
    "    The <b style=\"color:blue\">final challenge</b> for this program will include <b style=\"color:green\">checkerboard gateways</b>. These gate ways will mark pathways for which will <b style=\"color:green\">get you to the finish line faster!</b>\n",
    "    </p>\n",
    "\n",
    "<p style='font-size:1.75rem;line-height:1.5'>\n",
    "    In this lab, we will learn how to <b style=\"color:green\">identify and find</b> the checkerboard portion of gateways.\n",
    "    </p>\n",
    "    \n",
    "<p style='font-size:1.75rem;line-height:1.5'>\n",
    "    Gateways look like this:\n",
    "    </p>\n",
    "    \n",
    "TODO: INSERT GATEWAY PICTURE\n",
    "<img src=\"gateway.png\" alt=\"gateway\" style=\"width: 300px;\"/>"
   ]
  },
  {
   "cell_type": "markdown",
   "metadata": {},
   "source": [
    "## Detecting Checkerboard Patterns\n",
    "\n",
    "<p style='font-size:1.75rem;line-height:1.5'>\n",
    "    Use the instructor-made function <code>draw_checkerboard_center</code> to <b style=\"color:blue\">find and draw  the center of the checkerboard</b> from an image. \n",
    "    </p>\n",
    "\n",
    "<p style='font-size:1.75rem;line-height:1.5'>\n",
    "    The function has the following format:\n",
    "    </p>\n",
    "\n",
    "```python\n",
    "img, x_center, y_center = draw_checkerboard_center(<image>)\n",
    "```\n",
    "\n",
    "<p style='font-size:1.75rem;line-height:1.5'>\n",
    "    <b style=\"color:red\">Exercise:</b> \n",
    "    <br>Write a program that will <b style=\"color:green\">stream</b> video and <b style=\"color:green\">find and draw a circle around the center of the checkerboard.</b>\n",
    "    </p>\n",
    "\n",
    "<p style='font-size:1.75rem;line-height:1.5'>\n",
    "    When implemented, the following pattern will appear when checkerboards are detected in the frame:\n",
    "    </p>\n",
    "\n",
    "<img src=\"checkerboard_center.png\" alt=\"checkerboard_center\" style=\"width: 300px;\"/>"
   ]
  },
  {
   "cell_type": "code",
   "execution_count": null,
   "metadata": {},
   "outputs": [],
   "source": [
    "def find_checkerboard(frame):\n",
    "    # shrinking for visibility\n",
    "    frame = shrink(frame, 0.7)\n",
    "    \n",
    "    # TASK #1: Draw the checkerboard center on the frame\n",
    "    \n",
    "    \n",
    "    # TASK #2: Show the resulting frame via cv2.imshow\n",
    "    \n",
    "    \n",
    "# TASK #3: Call video(). Pass in find_checkerboard as input.\n",
    "\n"
   ]
  },
  {
   "cell_type": "code",
   "execution_count": 5,
   "metadata": {},
   "outputs": [],
   "source": [
    "# SOLUTION:\n",
    "def find_checkerboard(frame):\n",
    "    # shrinking for visibility\n",
    "    frame = shrink(frame, 0.7)\n",
    "    \n",
    "    # TASK #1: Draw the checkerboard center on the frame\n",
    "    frame, x_center, y_center = draw_checkerboard_center(frame)\n",
    "    \n",
    "    # TASK #2: Show the resulting frame via cv2.imshow\n",
    "    cv2.imshow('Checkerboard Center', frame)\n",
    "    \n",
    "# TASK #3: Call video(). Pass in find_checkerboard as input.\n",
    "video(find_checkerboard)\n"
   ]
  },
  {
   "cell_type": "markdown",
   "metadata": {},
   "source": [
    "<p style='font-size:1.75rem;line-height:1.5'>\n",
    "    <b style=\"color:red\">Remarks:</b> \n",
    "    </p>\n",
    "    \n",
    "<p style='font-size:1.75rem;line-height:1.5'>\n",
    "    The <b style=\"color:blue\">red circle should remain in the middle</b> of the checkerboard wherever you move it. \n",
    "    <br> Test this by <b style=\"color:blue\">twisting the paper</b> from side to side!\n",
    "    </p>\n",
    "\n",
    "<p style='font-size:1.75rem;line-height:1.5'>\n",
    "    Now, <b style=\"color:blue\">add a print statement</b> so that you can <b style=\"color:blue\">view the center x,y coordinates</b> of the detected checkerboard. \n",
    "    <br>This information will come in handy when you program your car to drive between the gateways!\n",
    "    </p>"
   ]
  }
 ],
 "metadata": {
  "kernelspec": {
   "display_name": "Python 3",
   "language": "python",
   "name": "python3"
  },
  "language_info": {
   "codemirror_mode": {
    "name": "ipython",
    "version": 3
   },
   "file_extension": ".py",
   "mimetype": "text/x-python",
   "name": "python",
   "nbconvert_exporter": "python",
   "pygments_lexer": "ipython3",
   "version": "3.8.1"
  }
 },
 "nbformat": 4,
 "nbformat_minor": 4
}
